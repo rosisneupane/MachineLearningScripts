{
  "cells": [
    {
      "cell_type": "code",
      "execution_count": null,
      "metadata": {
        "id": "JFuht0nUo9Zk"
      },
      "outputs": [],
      "source": [
        "import numpy as np \n",
        "import matplotlib.pyplot as plt\n",
        "import glob\n",
        "import cv2\n",
        "import os\n",
        "import seaborn as sns\n",
        "import pickle\n",
        "import pandas as pd\n",
        "from skimage.feature import greycomatrix, greycoprops\n",
        "from sklearn.metrics import classification_report\n",
        "from sklearn.model_selection import RandomizedSearchCV"
      ]
    },
    {
      "cell_type": "code",
      "source": [
        "#Importing libraries\n",
        "from skimage.io import imshow, imread, imsave\n",
        "from skimage.color import rgb2gray, rgb2hsv, rgb2lab\n",
        "from skimage.filters import threshold_otsu, gaussian, sobel, gabor\n",
        "from skimage.morphology import closing, disk\n",
        "from skimage.measure import label, regionprops, regionprops_table\n",
        "from skimage.transform import resize\n",
        "from skimage import morphology\n",
        "import skimage\n",
        "import imageio\n",
        "import pandas as pd\n",
        "from sklearn.ensemble import RandomForestClassifier\n",
        "from sklearn.cluster import KMeans\n",
        "from sklearn.metrics import classification_report\n",
        "from skimage.filters.rank import entropy\n",
        "import matplotlib.pyplot as plt\n",
        "import numpy as np\n",
        "from scipy.stats import kurtosis, skew\n",
        "import cv2\n",
        "import requests as rq\n",
        "import os, sys, time, PIL\n",
        "import ipywidgets as widgets\n",
        "from IPython.display import HTML, clear_output\n",
        "from pathlib import Path"
      ],
      "metadata": {
        "id": "tRMBIIjmGImS"
      },
      "execution_count": null,
      "outputs": []
    },
    {
      "cell_type": "code",
      "execution_count": null,
      "metadata": {
        "colab": {
          "base_uri": "https://localhost:8080/"
        },
        "id": "4XI66rkKpGiF",
        "outputId": "4dc52a9d-646b-4b79-ccfd-e4f9a95c9eed"
      },
      "outputs": [
        {
          "output_type": "stream",
          "name": "stdout",
          "text": [
            "Mounted at /gdrive\n"
          ]
        }
      ],
      "source": [
        "from google.colab import drive\n",
        "drive.mount('/gdrive')"
      ]
    },
    {
      "cell_type": "code",
      "source": [
        "train_images = []\n",
        "train_labels = []\n",
        "\n",
        "parent_path = '/gdrive/MyDrive/Data'\n",
        "label = 0\n",
        "for child in os.listdir(parent_path):\n",
        "  child_path = f\"{parent_path}/{child}\"\n",
        "  # child_path_bgremoved = f\"/content/train_bgremoved/{child}_bgremoved\"\n",
        "  # os.mkdir(child_path_bgremoved)\n",
        "  print(f\"Label {label} -> {child}\")\n",
        "  for img in os.listdir(child_path):\n",
        "    train_images.append(f'{child_path}/{img}')\n",
        "    train_labels.append(label)\n",
        "  label = label + 1"
      ],
      "metadata": {
        "colab": {
          "base_uri": "https://localhost:8080/"
        },
        "id": "8W9sdqkLctSu",
        "outputId": "581ede22-5714-4969-c3e2-bd15af4fcb30"
      },
      "execution_count": null,
      "outputs": [
        {
          "output_type": "stream",
          "name": "stdout",
          "text": [
            "Label 0 -> Hispa\n",
            "Label 1 -> LeafBlast\n",
            "Label 2 -> Healthy\n",
            "Label 3 -> BrownSpot\n"
          ]
        }
      ]
    },
    {
      "cell_type": "code",
      "source": [
        "train_labels"
      ],
      "metadata": {
        "id": "beYcv6pcfGiP"
      },
      "execution_count": null,
      "outputs": []
    },
    {
      "cell_type": "markdown",
      "metadata": {
        "id": "a6Kfj16cdqUh"
      },
      "source": [
        ""
      ]
    },
    {
      "cell_type": "code",
      "execution_count": null,
      "metadata": {
        "id": "vDBjqZ-H0BXl"
      },
      "outputs": [],
      "source": [
        "x_train, y_train= train_images, train_labels\n"
      ]
    },
    {
      "cell_type": "code",
      "source": [
        "x_train"
      ],
      "metadata": {
        "id": "c7XWG71ZRGyL"
      },
      "execution_count": null,
      "outputs": []
    },
    {
      "cell_type": "code",
      "execution_count": null,
      "metadata": {
        "id": "G0eaYU8H0BVB"
      },
      "outputs": [],
      "source": [
        "# input shape is (n, x, y, c) - number of images, x, y, and channels\n",
        "def feature_extractor(dataset):\n",
        "    image_dataset = pd.DataFrame()\n",
        "    count=1\n",
        "    for image in dataset:  #iterate through each file \n",
        "        print(str(count)+\" Read succesfully\")\n",
        "        \n",
        "        df = pd.DataFrame()  #Temporary data frame to capture information for each loop.\n",
        "        #Reset dataframe to blank after each loop.\n",
        "        \n",
        "        img = cv2.imread(image) #Reading image from path\n",
        "        #Add more filters as needed\n",
        "        # entropy = shannon_entropy(img)\n",
        "        # df['Entropy'] = [entropy]\n",
        "        #CALCULATING R,G,B MEAN\n",
        "        RGB_MEAN = cv2.mean(img)\n",
        "        df[\"Red\"]=[RGB_MEAN[0]]\n",
        "        df[\"Green\"]=[RGB_MEAN[1]]\n",
        "        df[\"Blue\"]=[RGB_MEAN[2]]\n",
        "\n",
        "        # CALCULATING H,S,V MEAN BY CONVERTING INTO HSV IMAGE\n",
        "        hsvImage = cv2.cvtColor(img, cv2.COLOR_BGR2HSV)\n",
        "        HSV_MEAN = cv2.mean(hsvImage)\n",
        "        df[\"H_Value\"]=[HSV_MEAN[0]]\n",
        "        df[\"S_Value\"]=[HSV_MEAN[1]]\n",
        "        df[\"V_Value\"]=[HSV_MEAN[2]]\n",
        "\n",
        "        # CALCULATING L,A,B MEAN VALUES BY CONVERTING INTO LAB IMAGE\n",
        "        lab_image = cv2.cvtColor(img, cv2.COLOR_BGR2LAB)\n",
        "        LAB_MEAN=cv2.mean(lab_image)\n",
        "        df[\"L_VALUE\"]=[LAB_MEAN[0]]\n",
        "        df[\"A_VALUE\"]=[LAB_MEAN[1]]\n",
        "        df[\"B_VALUE\"]=[LAB_MEAN[2]]\n",
        "        \n",
        "\n",
        "\n",
        "        gray_img = cv2.cvtColor(img, cv2.COLOR_BGR2GRAY)\n",
        "        # df[\"skewness\"]=skew(gray_img.reshape(-1))\n",
        "        # df[\"kurtosis\"]=kurtosis(gray_img.reshape(-1))\n",
        "\n",
        "        thetas= [0, np.pi/4, np.pi/2, 3*np.pi/4]\n",
        "        num=1\n",
        "        for theta in thetas:      \n",
        "          GLCM = greycomatrix(gray_img, [1], [theta])       \n",
        "          GLCM_Energy = greycoprops(GLCM, 'energy')[0]\n",
        "          df['Energy '+str(num)] = GLCM_Energy\n",
        "          GLCM_corr = greycoprops(GLCM, 'correlation')[0]\n",
        "          df['Corr '+str(num)] = GLCM_corr     \n",
        "          # GLCM_diss = greycoprops(GLCM, 'dissimilarity')[0]\n",
        "          # df['Diss_sim '+str(num)] = [GLCM_diss]       \n",
        "          GLCM_hom = greycoprops(GLCM, 'homogeneity')[0]\n",
        "          df['Homogen '+str(num)] = GLCM_hom      \n",
        "          GLCM_contr = greycoprops(GLCM, 'contrast')[0]\n",
        "          df['Contrast '+str(num)] = GLCM_contr\n",
        "          num=num+1\n",
        "        \n",
        "\n",
        "\n",
        "        \n",
        "        #Append features from current image to the dataset\n",
        "        image_dataset = image_dataset.append(df)\n",
        "        count=count+1\n",
        "    return image_dataset"
      ]
    },
    {
      "cell_type": "code",
      "execution_count": null,
      "metadata": {
        "id": "0bmThI_e0BR5"
      },
      "outputs": [],
      "source": [
        "image_features = feature_extractor(x_train)"
      ]
    },
    {
      "cell_type": "code",
      "source": [
        "image_features"
      ],
      "metadata": {
        "colab": {
          "base_uri": "https://localhost:8080/",
          "height": 505
        },
        "id": "KpQogTRjU2wU",
        "outputId": "01a3f5e4-32e6-4cd3-8899-0d07dbc8cdab"
      },
      "execution_count": null,
      "outputs": [
        {
          "output_type": "execute_result",
          "data": {
            "text/plain": [
              "         Red      Green       Blue   H_Value    S_Value    V_Value    L_VALUE  \\\n",
              "0   0.283738   1.650745   1.460017  0.653022   4.113560   1.654998   1.675715   \n",
              "0   0.401868   0.784714   0.745137  0.187202   0.722969   0.784714   0.798706   \n",
              "0   0.156040   0.520957   0.470723  0.245979   1.321582   0.522441   0.534163   \n",
              "0   0.414524   0.578694   0.690337  0.122339   0.773440   0.690337   0.644451   \n",
              "0   0.338540   0.541472   0.558726  0.165193   0.635083   0.558726   0.578501   \n",
              "..       ...        ...        ...       ...        ...        ...        ...   \n",
              "0   1.581096   3.678984   4.211980  0.654041   4.609009   4.211980   3.924421   \n",
              "0   1.348091   6.478284   6.707478  1.635745  11.604673   6.707478   6.795391   \n",
              "0   0.955581  10.512522   7.667585  3.117158  18.616677  10.512522  10.302827   \n",
              "0   2.736323  15.006816  14.494287  3.690967  24.941956  15.058962  15.443147   \n",
              "0   1.817566   7.326948   8.339939  1.265647  10.023059   8.339939   7.748958   \n",
              "\n",
              "       A_VALUE     B_VALUE  Energy 1  ...  Homogen 2  Contrast 2  Energy 3  \\\n",
              "0   127.734641  128.697939  0.975655  ...   0.982719   79.177559  0.977883   \n",
              "0   127.927383  128.197944  0.992345  ...   0.993544   71.991742  0.991338   \n",
              "0   127.921228  128.203643  0.989787  ...   0.994830   20.128570  0.989714   \n",
              "0   128.022092  128.114863  0.991409  ...   0.993474   23.367201  0.992598   \n",
              "0   127.969766  128.120918  0.992166  ...   0.995715   22.704803  0.991462   \n",
              "..         ...         ...       ...  ...        ...         ...       ...   \n",
              "0   127.952214  129.160601  0.966442  ...   0.981569  113.932722  0.966730   \n",
              "0   127.463538  130.646985  0.930141  ...   0.963751  280.205870  0.931635   \n",
              "0   125.714702  132.122271  0.914421  ...   0.957186  127.723441  0.916613   \n",
              "0   126.315156  133.981604  0.865844  ...   0.929553  341.960658  0.868213   \n",
              "0   127.798950  130.807275  0.944045  ...   0.958107  257.374284  0.944004   \n",
              "\n",
              "      Corr 3  Homogen 3  Contrast 3  Energy 4    Corr 4  Homogen 4  Contrast 4  \n",
              "0   0.807471   0.990647   45.613371  0.975830  0.691796   0.984409   73.131002  \n",
              "0   0.466971   0.992200  112.186708  0.990568  0.283248   0.991176  150.874493  \n",
              "0   0.591577   0.993078   25.447721  0.988714  0.447970   0.991091   34.210261  \n",
              "0   0.930814   0.997162    7.485047  0.991065  0.654223   0.991654   37.467123  \n",
              "0   0.570254   0.993060   39.589828  0.990576  0.416044   0.991307   53.787579  \n",
              "..       ...        ...         ...       ...       ...        ...         ...  \n",
              "0   0.828846   0.976726  169.798592  0.964110  0.710401   0.970297  287.442142  \n",
              "0   0.774049   0.966034  269.296770  0.929103  0.731662   0.957768  320.285111  \n",
              "0   0.955275   0.974141   76.499934  0.913689  0.918160   0.953766  140.182481  \n",
              "0   0.888884   0.938132  300.676937  0.863598  0.846581   0.917916  415.710385  \n",
              "0   0.895406   0.966404  200.362366  0.946095  0.934463   0.975230  125.530477  \n",
              "\n",
              "[1557 rows x 25 columns]"
            ],
            "text/html": [
              "\n",
              "  <div id=\"df-318ffb8d-878c-4f1e-ab62-e40d41b5b326\">\n",
              "    <div class=\"colab-df-container\">\n",
              "      <div>\n",
              "<style scoped>\n",
              "    .dataframe tbody tr th:only-of-type {\n",
              "        vertical-align: middle;\n",
              "    }\n",
              "\n",
              "    .dataframe tbody tr th {\n",
              "        vertical-align: top;\n",
              "    }\n",
              "\n",
              "    .dataframe thead th {\n",
              "        text-align: right;\n",
              "    }\n",
              "</style>\n",
              "<table border=\"1\" class=\"dataframe\">\n",
              "  <thead>\n",
              "    <tr style=\"text-align: right;\">\n",
              "      <th></th>\n",
              "      <th>Red</th>\n",
              "      <th>Green</th>\n",
              "      <th>Blue</th>\n",
              "      <th>H_Value</th>\n",
              "      <th>S_Value</th>\n",
              "      <th>V_Value</th>\n",
              "      <th>L_VALUE</th>\n",
              "      <th>A_VALUE</th>\n",
              "      <th>B_VALUE</th>\n",
              "      <th>Energy 1</th>\n",
              "      <th>...</th>\n",
              "      <th>Homogen 2</th>\n",
              "      <th>Contrast 2</th>\n",
              "      <th>Energy 3</th>\n",
              "      <th>Corr 3</th>\n",
              "      <th>Homogen 3</th>\n",
              "      <th>Contrast 3</th>\n",
              "      <th>Energy 4</th>\n",
              "      <th>Corr 4</th>\n",
              "      <th>Homogen 4</th>\n",
              "      <th>Contrast 4</th>\n",
              "    </tr>\n",
              "  </thead>\n",
              "  <tbody>\n",
              "    <tr>\n",
              "      <th>0</th>\n",
              "      <td>0.283738</td>\n",
              "      <td>1.650745</td>\n",
              "      <td>1.460017</td>\n",
              "      <td>0.653022</td>\n",
              "      <td>4.113560</td>\n",
              "      <td>1.654998</td>\n",
              "      <td>1.675715</td>\n",
              "      <td>127.734641</td>\n",
              "      <td>128.697939</td>\n",
              "      <td>0.975655</td>\n",
              "      <td>...</td>\n",
              "      <td>0.982719</td>\n",
              "      <td>79.177559</td>\n",
              "      <td>0.977883</td>\n",
              "      <td>0.807471</td>\n",
              "      <td>0.990647</td>\n",
              "      <td>45.613371</td>\n",
              "      <td>0.975830</td>\n",
              "      <td>0.691796</td>\n",
              "      <td>0.984409</td>\n",
              "      <td>73.131002</td>\n",
              "    </tr>\n",
              "    <tr>\n",
              "      <th>0</th>\n",
              "      <td>0.401868</td>\n",
              "      <td>0.784714</td>\n",
              "      <td>0.745137</td>\n",
              "      <td>0.187202</td>\n",
              "      <td>0.722969</td>\n",
              "      <td>0.784714</td>\n",
              "      <td>0.798706</td>\n",
              "      <td>127.927383</td>\n",
              "      <td>128.197944</td>\n",
              "      <td>0.992345</td>\n",
              "      <td>...</td>\n",
              "      <td>0.993544</td>\n",
              "      <td>71.991742</td>\n",
              "      <td>0.991338</td>\n",
              "      <td>0.466971</td>\n",
              "      <td>0.992200</td>\n",
              "      <td>112.186708</td>\n",
              "      <td>0.990568</td>\n",
              "      <td>0.283248</td>\n",
              "      <td>0.991176</td>\n",
              "      <td>150.874493</td>\n",
              "    </tr>\n",
              "    <tr>\n",
              "      <th>0</th>\n",
              "      <td>0.156040</td>\n",
              "      <td>0.520957</td>\n",
              "      <td>0.470723</td>\n",
              "      <td>0.245979</td>\n",
              "      <td>1.321582</td>\n",
              "      <td>0.522441</td>\n",
              "      <td>0.534163</td>\n",
              "      <td>127.921228</td>\n",
              "      <td>128.203643</td>\n",
              "      <td>0.989787</td>\n",
              "      <td>...</td>\n",
              "      <td>0.994830</td>\n",
              "      <td>20.128570</td>\n",
              "      <td>0.989714</td>\n",
              "      <td>0.591577</td>\n",
              "      <td>0.993078</td>\n",
              "      <td>25.447721</td>\n",
              "      <td>0.988714</td>\n",
              "      <td>0.447970</td>\n",
              "      <td>0.991091</td>\n",
              "      <td>34.210261</td>\n",
              "    </tr>\n",
              "    <tr>\n",
              "      <th>0</th>\n",
              "      <td>0.414524</td>\n",
              "      <td>0.578694</td>\n",
              "      <td>0.690337</td>\n",
              "      <td>0.122339</td>\n",
              "      <td>0.773440</td>\n",
              "      <td>0.690337</td>\n",
              "      <td>0.644451</td>\n",
              "      <td>128.022092</td>\n",
              "      <td>128.114863</td>\n",
              "      <td>0.991409</td>\n",
              "      <td>...</td>\n",
              "      <td>0.993474</td>\n",
              "      <td>23.367201</td>\n",
              "      <td>0.992598</td>\n",
              "      <td>0.930814</td>\n",
              "      <td>0.997162</td>\n",
              "      <td>7.485047</td>\n",
              "      <td>0.991065</td>\n",
              "      <td>0.654223</td>\n",
              "      <td>0.991654</td>\n",
              "      <td>37.467123</td>\n",
              "    </tr>\n",
              "    <tr>\n",
              "      <th>0</th>\n",
              "      <td>0.338540</td>\n",
              "      <td>0.541472</td>\n",
              "      <td>0.558726</td>\n",
              "      <td>0.165193</td>\n",
              "      <td>0.635083</td>\n",
              "      <td>0.558726</td>\n",
              "      <td>0.578501</td>\n",
              "      <td>127.969766</td>\n",
              "      <td>128.120918</td>\n",
              "      <td>0.992166</td>\n",
              "      <td>...</td>\n",
              "      <td>0.995715</td>\n",
              "      <td>22.704803</td>\n",
              "      <td>0.991462</td>\n",
              "      <td>0.570254</td>\n",
              "      <td>0.993060</td>\n",
              "      <td>39.589828</td>\n",
              "      <td>0.990576</td>\n",
              "      <td>0.416044</td>\n",
              "      <td>0.991307</td>\n",
              "      <td>53.787579</td>\n",
              "    </tr>\n",
              "    <tr>\n",
              "      <th>...</th>\n",
              "      <td>...</td>\n",
              "      <td>...</td>\n",
              "      <td>...</td>\n",
              "      <td>...</td>\n",
              "      <td>...</td>\n",
              "      <td>...</td>\n",
              "      <td>...</td>\n",
              "      <td>...</td>\n",
              "      <td>...</td>\n",
              "      <td>...</td>\n",
              "      <td>...</td>\n",
              "      <td>...</td>\n",
              "      <td>...</td>\n",
              "      <td>...</td>\n",
              "      <td>...</td>\n",
              "      <td>...</td>\n",
              "      <td>...</td>\n",
              "      <td>...</td>\n",
              "      <td>...</td>\n",
              "      <td>...</td>\n",
              "      <td>...</td>\n",
              "    </tr>\n",
              "    <tr>\n",
              "      <th>0</th>\n",
              "      <td>1.581096</td>\n",
              "      <td>3.678984</td>\n",
              "      <td>4.211980</td>\n",
              "      <td>0.654041</td>\n",
              "      <td>4.609009</td>\n",
              "      <td>4.211980</td>\n",
              "      <td>3.924421</td>\n",
              "      <td>127.952214</td>\n",
              "      <td>129.160601</td>\n",
              "      <td>0.966442</td>\n",
              "      <td>...</td>\n",
              "      <td>0.981569</td>\n",
              "      <td>113.932722</td>\n",
              "      <td>0.966730</td>\n",
              "      <td>0.828846</td>\n",
              "      <td>0.976726</td>\n",
              "      <td>169.798592</td>\n",
              "      <td>0.964110</td>\n",
              "      <td>0.710401</td>\n",
              "      <td>0.970297</td>\n",
              "      <td>287.442142</td>\n",
              "    </tr>\n",
              "    <tr>\n",
              "      <th>0</th>\n",
              "      <td>1.348091</td>\n",
              "      <td>6.478284</td>\n",
              "      <td>6.707478</td>\n",
              "      <td>1.635745</td>\n",
              "      <td>11.604673</td>\n",
              "      <td>6.707478</td>\n",
              "      <td>6.795391</td>\n",
              "      <td>127.463538</td>\n",
              "      <td>130.646985</td>\n",
              "      <td>0.930141</td>\n",
              "      <td>...</td>\n",
              "      <td>0.963751</td>\n",
              "      <td>280.205870</td>\n",
              "      <td>0.931635</td>\n",
              "      <td>0.774049</td>\n",
              "      <td>0.966034</td>\n",
              "      <td>269.296770</td>\n",
              "      <td>0.929103</td>\n",
              "      <td>0.731662</td>\n",
              "      <td>0.957768</td>\n",
              "      <td>320.285111</td>\n",
              "    </tr>\n",
              "    <tr>\n",
              "      <th>0</th>\n",
              "      <td>0.955581</td>\n",
              "      <td>10.512522</td>\n",
              "      <td>7.667585</td>\n",
              "      <td>3.117158</td>\n",
              "      <td>18.616677</td>\n",
              "      <td>10.512522</td>\n",
              "      <td>10.302827</td>\n",
              "      <td>125.714702</td>\n",
              "      <td>132.122271</td>\n",
              "      <td>0.914421</td>\n",
              "      <td>...</td>\n",
              "      <td>0.957186</td>\n",
              "      <td>127.723441</td>\n",
              "      <td>0.916613</td>\n",
              "      <td>0.955275</td>\n",
              "      <td>0.974141</td>\n",
              "      <td>76.499934</td>\n",
              "      <td>0.913689</td>\n",
              "      <td>0.918160</td>\n",
              "      <td>0.953766</td>\n",
              "      <td>140.182481</td>\n",
              "    </tr>\n",
              "    <tr>\n",
              "      <th>0</th>\n",
              "      <td>2.736323</td>\n",
              "      <td>15.006816</td>\n",
              "      <td>14.494287</td>\n",
              "      <td>3.690967</td>\n",
              "      <td>24.941956</td>\n",
              "      <td>15.058962</td>\n",
              "      <td>15.443147</td>\n",
              "      <td>126.315156</td>\n",
              "      <td>133.981604</td>\n",
              "      <td>0.865844</td>\n",
              "      <td>...</td>\n",
              "      <td>0.929553</td>\n",
              "      <td>341.960658</td>\n",
              "      <td>0.868213</td>\n",
              "      <td>0.888884</td>\n",
              "      <td>0.938132</td>\n",
              "      <td>300.676937</td>\n",
              "      <td>0.863598</td>\n",
              "      <td>0.846581</td>\n",
              "      <td>0.917916</td>\n",
              "      <td>415.710385</td>\n",
              "    </tr>\n",
              "    <tr>\n",
              "      <th>0</th>\n",
              "      <td>1.817566</td>\n",
              "      <td>7.326948</td>\n",
              "      <td>8.339939</td>\n",
              "      <td>1.265647</td>\n",
              "      <td>10.023059</td>\n",
              "      <td>8.339939</td>\n",
              "      <td>7.748958</td>\n",
              "      <td>127.798950</td>\n",
              "      <td>130.807275</td>\n",
              "      <td>0.944045</td>\n",
              "      <td>...</td>\n",
              "      <td>0.958107</td>\n",
              "      <td>257.374284</td>\n",
              "      <td>0.944004</td>\n",
              "      <td>0.895406</td>\n",
              "      <td>0.966404</td>\n",
              "      <td>200.362366</td>\n",
              "      <td>0.946095</td>\n",
              "      <td>0.934463</td>\n",
              "      <td>0.975230</td>\n",
              "      <td>125.530477</td>\n",
              "    </tr>\n",
              "  </tbody>\n",
              "</table>\n",
              "<p>1557 rows × 25 columns</p>\n",
              "</div>\n",
              "      <button class=\"colab-df-convert\" onclick=\"convertToInteractive('df-318ffb8d-878c-4f1e-ab62-e40d41b5b326')\"\n",
              "              title=\"Convert this dataframe to an interactive table.\"\n",
              "              style=\"display:none;\">\n",
              "        \n",
              "  <svg xmlns=\"http://www.w3.org/2000/svg\" height=\"24px\"viewBox=\"0 0 24 24\"\n",
              "       width=\"24px\">\n",
              "    <path d=\"M0 0h24v24H0V0z\" fill=\"none\"/>\n",
              "    <path d=\"M18.56 5.44l.94 2.06.94-2.06 2.06-.94-2.06-.94-.94-2.06-.94 2.06-2.06.94zm-11 1L8.5 8.5l.94-2.06 2.06-.94-2.06-.94L8.5 2.5l-.94 2.06-2.06.94zm10 10l.94 2.06.94-2.06 2.06-.94-2.06-.94-.94-2.06-.94 2.06-2.06.94z\"/><path d=\"M17.41 7.96l-1.37-1.37c-.4-.4-.92-.59-1.43-.59-.52 0-1.04.2-1.43.59L10.3 9.45l-7.72 7.72c-.78.78-.78 2.05 0 2.83L4 21.41c.39.39.9.59 1.41.59.51 0 1.02-.2 1.41-.59l7.78-7.78 2.81-2.81c.8-.78.8-2.07 0-2.86zM5.41 20L4 18.59l7.72-7.72 1.47 1.35L5.41 20z\"/>\n",
              "  </svg>\n",
              "      </button>\n",
              "      \n",
              "  <style>\n",
              "    .colab-df-container {\n",
              "      display:flex;\n",
              "      flex-wrap:wrap;\n",
              "      gap: 12px;\n",
              "    }\n",
              "\n",
              "    .colab-df-convert {\n",
              "      background-color: #E8F0FE;\n",
              "      border: none;\n",
              "      border-radius: 50%;\n",
              "      cursor: pointer;\n",
              "      display: none;\n",
              "      fill: #1967D2;\n",
              "      height: 32px;\n",
              "      padding: 0 0 0 0;\n",
              "      width: 32px;\n",
              "    }\n",
              "\n",
              "    .colab-df-convert:hover {\n",
              "      background-color: #E2EBFA;\n",
              "      box-shadow: 0px 1px 2px rgba(60, 64, 67, 0.3), 0px 1px 3px 1px rgba(60, 64, 67, 0.15);\n",
              "      fill: #174EA6;\n",
              "    }\n",
              "\n",
              "    [theme=dark] .colab-df-convert {\n",
              "      background-color: #3B4455;\n",
              "      fill: #D2E3FC;\n",
              "    }\n",
              "\n",
              "    [theme=dark] .colab-df-convert:hover {\n",
              "      background-color: #434B5C;\n",
              "      box-shadow: 0px 1px 3px 1px rgba(0, 0, 0, 0.15);\n",
              "      filter: drop-shadow(0px 1px 2px rgba(0, 0, 0, 0.3));\n",
              "      fill: #FFFFFF;\n",
              "    }\n",
              "  </style>\n",
              "\n",
              "      <script>\n",
              "        const buttonEl =\n",
              "          document.querySelector('#df-318ffb8d-878c-4f1e-ab62-e40d41b5b326 button.colab-df-convert');\n",
              "        buttonEl.style.display =\n",
              "          google.colab.kernel.accessAllowed ? 'block' : 'none';\n",
              "\n",
              "        async function convertToInteractive(key) {\n",
              "          const element = document.querySelector('#df-318ffb8d-878c-4f1e-ab62-e40d41b5b326');\n",
              "          const dataTable =\n",
              "            await google.colab.kernel.invokeFunction('convertToInteractive',\n",
              "                                                     [key], {});\n",
              "          if (!dataTable) return;\n",
              "\n",
              "          const docLinkHtml = 'Like what you see? Visit the ' +\n",
              "            '<a target=\"_blank\" href=https://colab.research.google.com/notebooks/data_table.ipynb>data table notebook</a>'\n",
              "            + ' to learn more about interactive tables.';\n",
              "          element.innerHTML = '';\n",
              "          dataTable['output_type'] = 'display_data';\n",
              "          await google.colab.output.renderOutput(dataTable, element);\n",
              "          const docLink = document.createElement('div');\n",
              "          docLink.innerHTML = docLinkHtml;\n",
              "          element.appendChild(docLink);\n",
              "        }\n",
              "      </script>\n",
              "    </div>\n",
              "  </div>\n",
              "  "
            ]
          },
          "metadata": {},
          "execution_count": 57
        }
      ]
    },
    {
      "cell_type": "code",
      "execution_count": null,
      "metadata": {
        "id": "aJLmXr7l0BO6",
        "colab": {
          "base_uri": "https://localhost:8080/"
        },
        "outputId": "8c820b2f-ef90-42d3-9824-893400f6031f"
      },
      "outputs": [
        {
          "output_type": "execute_result",
          "data": {
            "text/plain": [
              "{'bootstrap': True,\n",
              " 'max_depth': 80,\n",
              " 'max_features': 'sqrt',\n",
              " 'min_samples_split': 10,\n",
              " 'n_estimators': 50}"
            ]
          },
          "metadata": {},
          "execution_count": 30
        }
      ],
      "source": [
        "from sklearn.ensemble import RandomForestClassifier\n",
        "RF_model = RandomForestClassifier(n_estimators= 50, min_samples_split= 10, max_depth= 80, bootstrap= True)\n",
        "{'n_estimators': 50, 'min_samples_split': 10, 'max_features': 'sqrt', 'max_depth': 80, 'bootstrap': True}"
      ]
    },
    {
      "cell_type": "code",
      "source": [
        "from sklearn.model_selection import train_test_split\n",
        "X_train,X_test,Y_train,Y_test=train_test_split(image_features,train_labels,test_size=0.2)"
      ],
      "metadata": {
        "id": "Caj3-zJXSKeX"
      },
      "execution_count": null,
      "outputs": []
    },
    {
      "cell_type": "code",
      "execution_count": null,
      "metadata": {
        "colab": {
          "base_uri": "https://localhost:8080/"
        },
        "id": "faI8hHIy0BMU",
        "outputId": "7b06446f-b52a-4920-fa8c-041273363139"
      },
      "outputs": [
        {
          "output_type": "execute_result",
          "data": {
            "text/plain": [
              "RandomForestClassifier(max_depth=80, max_features='sqrt', min_samples_leaf=3,\n",
              "                       min_samples_split=10, n_estimators=50)"
            ]
          },
          "metadata": {},
          "execution_count": 91
        }
      ],
      "source": [
        "RF_model.fit(X_train, Y_train)"
      ]
    },
    {
      "cell_type": "code",
      "source": [
        "test_prediction = RF_model.predict(X_test)"
      ],
      "metadata": {
        "id": "6XhTrY13TIko"
      },
      "execution_count": null,
      "outputs": []
    },
    {
      "cell_type": "code",
      "execution_count": null,
      "metadata": {
        "id": "OJ474ren0BJM",
        "colab": {
          "base_uri": "https://localhost:8080/"
        },
        "outputId": "ce5d93c8-f337-4252-8958-5b703c3bc821"
      },
      "outputs": [
        {
          "output_type": "stream",
          "name": "stdout",
          "text": [
            "Accuracy =  0.7307692307692307\n"
          ]
        }
      ],
      "source": [
        "from sklearn import metrics\n",
        "print (\"Accuracy = \", metrics.accuracy_score(Y_test, test_prediction))"
      ]
    },
    {
      "cell_type": "code",
      "source": [
        "print(classification_report(Y_test, test_prediction,digits=4)) "
      ],
      "metadata": {
        "colab": {
          "base_uri": "https://localhost:8080/"
        },
        "id": "tnGvPA-VWu9P",
        "outputId": "374deaed-1aa7-46b5-f11f-cab123dabbe7"
      },
      "execution_count": null,
      "outputs": [
        {
          "output_type": "stream",
          "name": "stdout",
          "text": [
            "              precision    recall  f1-score   support\n",
            "\n",
            "           0     0.5895    0.7273    0.6512        77\n",
            "           1     0.6528    0.5402    0.5912        87\n",
            "           2     0.9481    0.9865    0.9669        74\n",
            "           3     0.7647    0.7027    0.7324        74\n",
            "\n",
            "    accuracy                         0.7308       312\n",
            "   macro avg     0.7388    0.7392    0.7354       312\n",
            "weighted avg     0.7337    0.7308    0.7286       312\n",
            "\n"
          ]
        }
      ]
    },
    {
      "cell_type": "markdown",
      "source": [
        ""
      ],
      "metadata": {
        "id": "a8wWiiesrs3K"
      }
    },
    {
      "cell_type": "code",
      "source": [
        "from sklearn.metrics import confusion_matrix\n",
        "cm = confusion_matrix(Y_test, test_prediction)\n",
        "\n",
        "fig, ax = plt.subplots(figsize=(8,8))         # Sample figsize in inches\n",
        "sns.set(font_scale=1.6)\n",
        "sns.heatmap(cm, annot=True, ax=ax)\n",
        "ax.xaxis.set_ticklabels(['Hispa', 'LeafBlast', 'Healthy', 'BrownSpot']); ax.yaxis.set_ticklabels(['Hispa', 'LeafBlast', 'Healthy', 'BrownSpot']);\n",
        "\n"
      ],
      "metadata": {
        "colab": {
          "base_uri": "https://localhost:8080/",
          "height": 493
        },
        "id": "tAAPVbMcRokF",
        "outputId": "6a36bea0-fe31-447a-f72d-fa1c451c7e30"
      },
      "execution_count": null,
      "outputs": [
        {
          "output_type": "display_data",
          "data": {
            "text/plain": [
              "<Figure size 576x576 with 2 Axes>"
            ],
            "image/png": "[encoded data removed]"
          },
          "metadata": {}
        }
      ]
    },
    {
      "cell_type": "code",
      "source": [
        "from sklearn.datasets import load_iris\n",
        "from sklearn.model_selection import cross_val_score,KFold\n",
        "from sklearn.linear_model import LogisticRegression\n",
        "# iris=load_iris()\n",
        "X=image_features\n",
        "Y=train_labels\n",
        "# logreg=LogisticRegression()\n",
        "kf=KFold(n_splits=10)\n",
        "score=cross_val_score(RF_model,X,Y,cv=kf)\n",
        "print(\"Cross Validation Scores are {}\".format(score))\n",
        "print(\"Average Cross Validation score :{}\".format(score.mean()))"
      ],
      "metadata": {
        "colab": {
          "base_uri": "https://localhost:8080/"
        },
        "id": "12IUZ9nFSc3E",
        "outputId": "01bed5d7-a9e7-4299-d7dd-1579d4127450"
      },
      "execution_count": null,
      "outputs": [
        {
          "output_type": "stream",
          "name": "stdout",
          "text": [
            "Cross Validation Scores are [0.39102564 0.48717949 0.59615385 0.27564103 0.30769231 0.94230769\n",
            " 0.98717949 0.77419355 0.56774194 0.55483871]\n",
            "Average Cross Validation score :0.5883953680727874\n"
          ]
        }
      ]
    },
    {
      "cell_type": "code",
      "execution_count": null,
      "metadata": {
        "id": "qFXdPDc9lK81"
      },
      "outputs": [],
      "source": [
        "#Extracting hue value from image\n",
        "def hue_extraction(selection):\n",
        "  img_hsv = rgb2hsv(selection) \n",
        "  hue_img = img_hsv[:, :, 0]\n",
        "  return hue_img"
      ]
    },
    {
      "cell_type": "code",
      "source": [
        "def remove_background(image_rgb):\n",
        "    #Creaitng subplots\n",
        "    # fig = plt.figure(figsize=(10, 7))\n",
        "    # rows = 2\n",
        "    # columns = 2\n",
        "\n",
        "    # convert the image to grayscale\n",
        "    image_gray = rgb2gray(image_rgb)\n",
        "    # fig.add_subplot(rows,columns,1)\n",
        "\n",
        "    # blur the image to denoise\n",
        "    blurred_image = gaussian(image_gray, sigma=10)\n",
        "    # fig.add_subplot(rows,columns,2)\n",
        "\n",
        "    #Creating mask \n",
        "    binary = blurred_image < threshold_otsu(blurred_image)\n",
        "    binary = closing(binary)\n",
        "    # fig.add_subplot(rows,columns,3)\n",
        "\n",
        "    selection = np.zeros_like(image_rgb) #background removed image\n",
        "    selection[binary] = image_rgb[binary]\n",
        "    # fig.add_subplot(rows,columns,4)\n",
        "    return selection;"
      ],
      "metadata": {
        "id": "XKTld6bMca-C"
      },
      "execution_count": null,
      "outputs": []
    },
    {
      "cell_type": "code",
      "execution_count": null,
      "metadata": {
        "id": "NyksFVfctji9"
      },
      "outputs": [],
      "source": [
        " def disease_spot_finder(selection,label):\n",
        "    image1 = np.zeros_like(selection)\n",
        "    mask1 = (label==0)\n",
        "    image1[mask1]=selection[mask1]\n",
        "\n",
        "    image2 = np.zeros_like(selection)\n",
        "    mask2 = (label==1)\n",
        "    image2[mask2]=selection[mask2]\n",
        "\n",
        "    image3 = np.zeros_like(selection)\n",
        "    mask3 = (label==2)\n",
        "    image3[mask3]=selection[mask3]\n",
        "    # plt.imshow(image1)\n",
        "\n",
        "    g_mean1  =  np.mean(image1, axis=(0, 1))[1]\n",
        "    g_mean2  =  np.mean(image2, axis=(0, 1))[1]\n",
        "    g_mean3  =  np.mean(image3, axis=(0, 1))[1]\n",
        "\n",
        "    # print(f\"[{g_mean1}, {g_mean2}, {g_mean3}]\")\n",
        "    arr = [(image1, g_mean1), (image2, g_mean2), (image3, g_mean3)]\n",
        "    arr.sort(key=lambda x: x[1])\n",
        "    # output=data.index(srt[1])\n",
        "    return arr"
      ]
    },
    {
      "cell_type": "code",
      "source": [
        "def makedir(pt):\n",
        "  if not os.path.isdir(pt):\n",
        "    os.mkdir(pt)"
      ],
      "metadata": {
        "id": "F9mwuu8l8oEN"
      },
      "execution_count": null,
      "outputs": []
    },
    {
      "cell_type": "code",
      "source": [
        ""
      ],
      "metadata": {
        "id": "XxXDK8zVGpUz",
        "cellView": "form"
      },
      "execution_count": null,
      "outputs": []
    },
    {
      "cell_type": "code",
      "execution_count": null,
      "metadata": {
        "id": "ptgl9QWM1aks",
        "cellView": "form"
      },
      "outputs": [],
      "source": [
        ""
      ]
    },
    {
      "cell_type": "code",
      "source": [
        "img_in = \"/content/bg_and_otsu/IMG_20190420_195218.jpg\"\n",
        "img_out = \"/content/output\"\n",
        "img_name = Path(img_in).name\n",
        "\n",
        "# leaf_class = \"brownspot\" #@param [\"hispa\", \"leafblast\", \"brownspot\", \"healthy\"]\n",
        "\n",
        "bg_removed_image = remove_background(imread(img_in))\n",
        "\n",
        "\n",
        "# image_rgb_np = np.array(imread(img_path))\n",
        "# bg_removed_image = image_rgb_np\n",
        "# bg_removed_image = image_rgb_np[0:,0:,:-1]\n",
        "# transparent_ch = image_rgb_np[0:,0:,3]\n",
        "# image_rgb_np = image_rgb_np[0:,0:,:-1]\n",
        "# bg_removed_image = np.zeros_like(image_rgb_np)\n",
        "# transparent_ch_mask = transparent_ch > 0\n",
        "# bg_removed_image[transparent_ch_mask] = image_rgb_np[transparent_ch_mask]\n",
        "hue_extracted_image = hue_extraction(bg_removed_image)\n",
        "image = hue_extracted_image.reshape(-1,1)\n",
        "image = np.float32(image)\n",
        "kmeans = KMeans(n_clusters=3,init='k-means++',algorithm='full',n_init=20).fit(image)\n",
        "label = kmeans.labels_\n",
        "label = label.reshape(hue_extracted_image.shape)\n",
        "img_with_disease = disease_spot_finder(bg_removed_image,label)\n",
        "img1 = img_with_disease[1][0]\n",
        "img2 = img_with_disease[2][0]\n",
        "# print(img_with_disease)\n",
        "# res = mask_green_region(res, hsv_range[0], hsv_range[1])\n",
        "\n",
        "fig = plt.figure(figsize=(25, 18))\n",
        "fig.add_subplot(1, 3, 1)\n",
        "plt.imshow(img1)\n",
        "plt.axis('off')\n",
        "plt.title(\"Image 1\")\n",
        "# fig.add_subplot(1, 3, 2)\n",
        "# plt.imshow(img2)\n",
        "# plt.axis('off')\n",
        "# plt.title(\"Image 2\")\n",
        "\n",
        "# imageio.imwrite(f\"{img_out}/{leaf_class}/{img_name}\", img1)\n"
      ],
      "metadata": {
        "id": "fKkA_yFOFnm_",
        "colab": {
          "base_uri": "https://localhost:8080/",
          "height": 474
        },
        "outputId": "a7610aa7-5596-44a2-c984-4b906fcc841e"
      },
      "execution_count": null,
      "outputs": [
        {
          "output_type": "execute_result",
          "data": {
            "text/plain": [
              "Text(0.5, 1.0, 'Image 1')"
            ]
          },
          "metadata": {},
          "execution_count": 16
        },
        {
          "output_type": "display_data",
          "data": {
            "text/plain": [
              "<Figure size 1800x1296 with 1 Axes>"
            ],
            "image/png": "[encoded data removed]"
          },
          "metadata": {
            "needs_background": "light"
          }
        }
      ]
    },
    {
      "cell_type": "code",
      "source": [
        "#Predict\n",
        "\n",
        "dis = ['Hispa', 'LeafBlast', 'Healthy', 'BrownSpot']\n",
        "# test_image=cv2.imread('/gdrive/MyDrive/College stuffs/IMG_20190420_194316.png')\n",
        "input_img_path = \"/content/leaf_classes/Healthy.png\"\n",
        "img = imread(input_img_path)\n",
        "\n",
        "fig = plt.figure(figsize=(25, 18))\n",
        "fig.add_subplot(1, 3, 1)\n",
        "plt.imshow(img)\n",
        "plt.axis('off')\n",
        "plt.title(\"Image 1\")\n",
        "\n",
        "input_img_features=feature_extractor([input_img_path])\n",
        "img_prediction = pickled_model.predict(input_img_features)\n",
        "print(\"The prediction for this image is: \", dis[int(img_prediction)])"
      ],
      "metadata": {
        "colab": {
          "base_uri": "https://localhost:8080/",
          "height": 492
        },
        "id": "Q-0mWthiY7F2",
        "outputId": "f89e478f-839a-492b-9c0d-244b26ccb655"
      },
      "execution_count": null,
      "outputs": [
        {
          "output_type": "stream",
          "name": "stdout",
          "text": [
            "1 Read succesfully\n",
            "The prediction for this image is:  Healthy\n"
          ]
        },
        {
          "output_type": "display_data",
          "data": {
            "text/plain": [
              "<Figure size 1800x1296 with 1 Axes>"
            ],
            "image/png": "[encoded data removed]"
          },
          "metadata": {
            "needs_background": "light"
          }
        }
      ]
    },
    {
      "cell_type": "code",
      "source": [
        "!cp \"/gdrive/MyDrive/IMG_20190420_195218.jpg\" /content/bg_and_otsu/"
      ],
      "metadata": {
        "id": "u2okB8_T1Um4"
      },
      "execution_count": null,
      "outputs": []
    },
    {
      "cell_type": "code",
      "source": [
        "pickle.dump(RF_model, open('/gdrive/MyDrive/Embedded System (1)/model.pkl', 'wb'))"
      ],
      "metadata": {
        "id": "Zcp7G039t8O_"
      },
      "execution_count": null,
      "outputs": []
    },
    {
      "cell_type": "code",
      "source": [
        "pickled_model = pickle.load(open('/content/rf_model/model.pkl', 'rb'))"
      ],
      "metadata": {
        "id": "lUv_NeswuHu6"
      },
      "execution_count": null,
      "outputs": []
    },
    {
      "cell_type": "code",
      "source": [
        "from sklearn import metrics\n",
        "test_prediction_latest = pickled_model.predict(X_test)\n",
        "print (\"Accuracy = \", metrics.accuracy_score(Y_train, X_train))"
      ],
      "metadata": {
        "id": "PV3m-4h4vS62"
      },
      "execution_count": null,
      "outputs": []
    },
    {
      "cell_type": "code",
      "source": [
        "print(f'Final Training Accuracy: {RF_model.score(X_train,Y_train)*100}%')\n",
        "print(f'Model Accuracy: {RF_model.score(X_test,Y_test)*100}%')"
      ],
      "metadata": {
        "colab": {
          "base_uri": "https://localhost:8080/"
        },
        "id": "zaAMoFhDvlKh",
        "outputId": "aacc2ad1-3b64-4c0a-9254-d7d34e958f6a"
      },
      "execution_count": null,
      "outputs": [
        {
          "output_type": "stream",
          "name": "stdout",
          "text": [
            "Final Training Accuracy: 93.49397590361446%\n",
            "Model Accuracy: 73.07692307692307%\n"
          ]
        }
      ]
    },
    {
      "cell_type": "code",
      "source": [
        "random_grid = {'bootstrap': [True, False],\n",
        "               'max_depth': [10, 20, 30, 40, 50, 60, 70, 80, 90, 100, 110, None],\n",
        "               'max_features': ['auto', 'sqrt'],\n",
        "               'min_samples_leaf': [1, 2, 4],\n",
        "               'min_samples_split': [2, 5, 10],\n",
        "               'n_estimators': [10, 50, 100,200]}"
      ],
      "metadata": {
        "id": "HzW_Hn7R0Zvb"
      },
      "execution_count": null,
      "outputs": []
    },
    {
      "cell_type": "code",
      "source": [
        "# Use the random grid to search for best hyperparameters\n",
        "# First create the base model to tune\n",
        "# from sklearn.ensemble import RandomForestRegressor\n",
        "# rf = RandomForestRegressor()\n",
        "# Random search of parameters, using 3 fold cross validation, \n",
        "# search across 100 different combinations, and use all available cores\n",
        "rf_random = RandomizedSearchCV(estimator = RF_model, param_distributions = random_grid, n_iter = 100, cv = 3, verbose=2, random_state=42, n_jobs = -1)\n",
        "# Fit the random search model\n",
        "rf_random.fit(X_train, Y_train)\n",
        "rf_random.best_params_\n",
        "rf_random.best_score_\n",
        "rf_random.best_estimator_"
      ],
      "metadata": {
        "colab": {
          "base_uri": "https://localhost:8080/"
        },
        "id": "y_DTOrvY5DON",
        "outputId": "1add4ae7-ffd9-4b8c-bd28-4ef05b30bfe9"
      },
      "execution_count": null,
      "outputs": [
        {
          "output_type": "stream",
          "name": "stdout",
          "text": [
            "Fitting 3 folds for each of 100 candidates, totalling 300 fits\n"
          ]
        },
        {
          "output_type": "execute_result",
          "data": {
            "text/plain": [
              "RandomForestClassifier(bootstrap=False, max_depth=60, max_features='sqrt',\n",
              "                       n_estimators=50)"
            ]
          },
          "metadata": {},
          "execution_count": 124
        }
      ]
    },
    {
      "cell_type": "code",
      "source": [
        ""
      ],
      "metadata": {
        "id": "AicKiFBJ6_DU"
      },
      "execution_count": null,
      "outputs": []
    }
  ],
  "metadata": {
    "colab": {
      "name": "GLCM.ipynb",
      "provenance": [],
      "collapsed_sections": []
    },
    "kernelspec": {
      "display_name": "Python 3",
      "name": "python3"
    },
    "language_info": {
      "name": "python"
    }
  },
  "nbformat": 4,
  "nbformat_minor": 0
}